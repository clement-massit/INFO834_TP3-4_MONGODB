{
 "cells": [
  {
   "cell_type": "markdown",
   "metadata": {},
   "source": [
    "# INFO834 : TP 3-4\n",
    "\n",
    "### Forray Gabriel & Clément Massit"
   ]
  },
  {
   "cell_type": "markdown",
   "metadata": {},
   "source": [
    "Ce TP nous permettre de voir un ensemble de commandes dans le but de manipuler avec précision MongoDB. Nous verrons quelques script en python et en Node.js pour compléter ces manipulations."
   ]
  },
  {
   "cell_type": "markdown",
   "metadata": {},
   "source": [
    "Durant ce TP il s'agit de faire des requêtes afin de manipuler MongoDB. Après avoir testé l'importation des données via le mongoimport puis établit quelques commandes de bases, nous sommes capables de manipuler ces données. Il est temps de réaliser un peu de benchmark..."
   ]
  },
  {
   "cell_type": "markdown",
   "metadata": {},
   "source": [
    "## 7. Un peu de benchmark "
   ]
  },
  {
   "cell_type": "code",
   "execution_count": 38,
   "metadata": {},
   "outputs": [],
   "source": [
    "# Imports\n",
    "\n",
    "from pymongo import MongoClient\n",
    "import time\n",
    "import pandas as pd"
   ]
  },
  {
   "cell_type": "code",
   "execution_count": 39,
   "metadata": {},
   "outputs": [],
   "source": [
    "# Create the data frame\n",
    "\n",
    "df = pd.read_csv(\"communes-departement-region.csv\")"
   ]
  },
  {
   "cell_type": "code",
   "execution_count": 40,
   "metadata": {},
   "outputs": [],
   "source": [
    "# Connect to mongod\n",
    "\n",
    "client = MongoClient(\"localhost:27017\")\n",
    "db=client.France"
   ]
  },
  {
   "cell_type": "code",
   "execution_count": 41,
   "metadata": {},
   "outputs": [
    {
     "ename": "TypeError",
     "evalue": "'Collection' object is not callable. If you meant to call the 'findOne' method on a 'Collection' object it is failing because no such method exists.",
     "output_type": "error",
     "traceback": [
      "\u001b[1;31m---------------------------------------------------------------------------\u001b[0m",
      "\u001b[1;31mTypeError\u001b[0m                                 Traceback (most recent call last)",
      "\u001b[1;32mc:\\Users\\cleme\\OneDrive\\Documents\\POLYTECH\\S8\\INFO 834 - BDD DISTRIBUEES\\TP3\\tp3_4.ipynb Cell 8'\u001b[0m in \u001b[0;36m<module>\u001b[1;34m\u001b[0m\n\u001b[0;32m      <a href='vscode-notebook-cell:/c%3A/Users/cleme/OneDrive/Documents/POLYTECH/S8/INFO%20834%20-%20BDD%20DISTRIBUEES/TP3/tp3_4.ipynb#ch0000007?line=2'>3</a>\u001b[0m start \u001b[39m=\u001b[39m time\u001b[39m.\u001b[39mtime()\n\u001b[0;32m      <a href='vscode-notebook-cell:/c%3A/Users/cleme/OneDrive/Documents/POLYTECH/S8/INFO%20834%20-%20BDD%20DISTRIBUEES/TP3/tp3_4.ipynb#ch0000007?line=4'>5</a>\u001b[0m \u001b[39mfor\u001b[39;00m index, row \u001b[39min\u001b[39;00m df\u001b[39m.\u001b[39miterrows():\n\u001b[1;32m----> <a href='vscode-notebook-cell:/c%3A/Users/cleme/OneDrive/Documents/POLYTECH/S8/INFO%20834%20-%20BDD%20DISTRIBUEES/TP3/tp3_4.ipynb#ch0000007?line=5'>6</a>\u001b[0m     db\u001b[39m.\u001b[39;49mcommunes\u001b[39m.\u001b[39;49mfindOne({\u001b[39m\"\u001b[39;49m\u001b[39mnom_commune\u001b[39;49m\u001b[39m\"\u001b[39;49m:row[\u001b[39m'\u001b[39;49m\u001b[39mnom_commune\u001b[39;49m\u001b[39m'\u001b[39;49m]})\n\u001b[0;32m      <a href='vscode-notebook-cell:/c%3A/Users/cleme/OneDrive/Documents/POLYTECH/S8/INFO%20834%20-%20BDD%20DISTRIBUEES/TP3/tp3_4.ipynb#ch0000007?line=7'>8</a>\u001b[0m end \u001b[39m=\u001b[39m time\u001b[39m.\u001b[39mtime()\n\u001b[0;32m     <a href='vscode-notebook-cell:/c%3A/Users/cleme/OneDrive/Documents/POLYTECH/S8/INFO%20834%20-%20BDD%20DISTRIBUEES/TP3/tp3_4.ipynb#ch0000007?line=9'>10</a>\u001b[0m \u001b[39mprint\u001b[39m(end \u001b[39m-\u001b[39m start)\n",
      "File \u001b[1;32m~\\AppData\\Local\\Packages\\PythonSoftwareFoundation.Python.3.9_qbz5n2kfra8p0\\LocalCache\\local-packages\\Python39\\site-packages\\pymongo\\collection.py:2584\u001b[0m, in \u001b[0;36mCollection.__call__\u001b[1;34m(self, *args, **kwargs)\u001b[0m\n\u001b[0;32m   <a href='file:///~/AppData/Local/Packages/PythonSoftwareFoundation.Python.3.9_qbz5n2kfra8p0/LocalCache/local-packages/Python39/site-packages/pymongo/collection.py?line=2577'>2578</a>\u001b[0m \u001b[39mif\u001b[39;00m \u001b[39m\"\u001b[39m\u001b[39m.\u001b[39m\u001b[39m\"\u001b[39m \u001b[39mnot\u001b[39;00m \u001b[39min\u001b[39;00m \u001b[39mself\u001b[39m\u001b[39m.\u001b[39m__name:\n\u001b[0;32m   <a href='file:///~/AppData/Local/Packages/PythonSoftwareFoundation.Python.3.9_qbz5n2kfra8p0/LocalCache/local-packages/Python39/site-packages/pymongo/collection.py?line=2578'>2579</a>\u001b[0m     \u001b[39mraise\u001b[39;00m \u001b[39mTypeError\u001b[39;00m(\u001b[39m\"\u001b[39m\u001b[39m'\u001b[39m\u001b[39mCollection\u001b[39m\u001b[39m'\u001b[39m\u001b[39m object is not callable. If you \u001b[39m\u001b[39m\"\u001b[39m\n\u001b[0;32m   <a href='file:///~/AppData/Local/Packages/PythonSoftwareFoundation.Python.3.9_qbz5n2kfra8p0/LocalCache/local-packages/Python39/site-packages/pymongo/collection.py?line=2579'>2580</a>\u001b[0m                     \u001b[39m\"\u001b[39m\u001b[39mmeant to call the \u001b[39m\u001b[39m'\u001b[39m\u001b[39m%s\u001b[39;00m\u001b[39m'\u001b[39m\u001b[39m method on a \u001b[39m\u001b[39m'\u001b[39m\u001b[39mDatabase\u001b[39m\u001b[39m'\u001b[39m\u001b[39m \u001b[39m\u001b[39m\"\u001b[39m\n\u001b[0;32m   <a href='file:///~/AppData/Local/Packages/PythonSoftwareFoundation.Python.3.9_qbz5n2kfra8p0/LocalCache/local-packages/Python39/site-packages/pymongo/collection.py?line=2580'>2581</a>\u001b[0m                     \u001b[39m\"\u001b[39m\u001b[39mobject it is failing because no such method \u001b[39m\u001b[39m\"\u001b[39m\n\u001b[0;32m   <a href='file:///~/AppData/Local/Packages/PythonSoftwareFoundation.Python.3.9_qbz5n2kfra8p0/LocalCache/local-packages/Python39/site-packages/pymongo/collection.py?line=2581'>2582</a>\u001b[0m                     \u001b[39m\"\u001b[39m\u001b[39mexists.\u001b[39m\u001b[39m\"\u001b[39m \u001b[39m%\u001b[39m\n\u001b[0;32m   <a href='file:///~/AppData/Local/Packages/PythonSoftwareFoundation.Python.3.9_qbz5n2kfra8p0/LocalCache/local-packages/Python39/site-packages/pymongo/collection.py?line=2582'>2583</a>\u001b[0m                     \u001b[39mself\u001b[39m\u001b[39m.\u001b[39m__name)\n\u001b[1;32m-> <a href='file:///~/AppData/Local/Packages/PythonSoftwareFoundation.Python.3.9_qbz5n2kfra8p0/LocalCache/local-packages/Python39/site-packages/pymongo/collection.py?line=2583'>2584</a>\u001b[0m \u001b[39mraise\u001b[39;00m \u001b[39mTypeError\u001b[39;00m(\u001b[39m\"\u001b[39m\u001b[39m'\u001b[39m\u001b[39mCollection\u001b[39m\u001b[39m'\u001b[39m\u001b[39m object is not callable. If you meant to \u001b[39m\u001b[39m\"\u001b[39m\n\u001b[0;32m   <a href='file:///~/AppData/Local/Packages/PythonSoftwareFoundation.Python.3.9_qbz5n2kfra8p0/LocalCache/local-packages/Python39/site-packages/pymongo/collection.py?line=2584'>2585</a>\u001b[0m                 \u001b[39m\"\u001b[39m\u001b[39mcall the \u001b[39m\u001b[39m'\u001b[39m\u001b[39m%s\u001b[39;00m\u001b[39m'\u001b[39m\u001b[39m method on a \u001b[39m\u001b[39m'\u001b[39m\u001b[39mCollection\u001b[39m\u001b[39m'\u001b[39m\u001b[39m object it is \u001b[39m\u001b[39m\"\u001b[39m\n\u001b[0;32m   <a href='file:///~/AppData/Local/Packages/PythonSoftwareFoundation.Python.3.9_qbz5n2kfra8p0/LocalCache/local-packages/Python39/site-packages/pymongo/collection.py?line=2585'>2586</a>\u001b[0m                 \u001b[39m\"\u001b[39m\u001b[39mfailing because no such method exists.\u001b[39m\u001b[39m\"\u001b[39m \u001b[39m%\u001b[39m\n\u001b[0;32m   <a href='file:///~/AppData/Local/Packages/PythonSoftwareFoundation.Python.3.9_qbz5n2kfra8p0/LocalCache/local-packages/Python39/site-packages/pymongo/collection.py?line=2586'>2587</a>\u001b[0m                 \u001b[39mself\u001b[39m\u001b[39m.\u001b[39m__name\u001b[39m.\u001b[39msplit(\u001b[39m\"\u001b[39m\u001b[39m.\u001b[39m\u001b[39m\"\u001b[39m)[\u001b[39m-\u001b[39m\u001b[39m1\u001b[39m])\n",
      "\u001b[1;31mTypeError\u001b[0m: 'Collection' object is not callable. If you meant to call the 'findOne' method on a 'Collection' object it is failing because no such method exists."
     ]
    }
   ],
   "source": [
    "# Measure the time for finding each row by the commune name\n",
    "\n",
    "start = time.time()\n",
    "\n",
    "for index, row in df.iterrows():\n",
    "    db.communes.find({\"nom_commune\":row['nom_commune']})\n",
    "\n",
    "end = time.time()\n",
    "\n",
    "print(end - start)"
   ]
  },
  {
   "cell_type": "markdown",
   "metadata": {},
   "source": [
    "Pour rechercher chaque commune depuis la liste de leurs noms, on met **14,16 secondes**"
   ]
  },
  {
   "cell_type": "markdown",
   "metadata": {},
   "source": [
    "## 8. Quand ça presse et qu’il faut y aller vite\n",
    "Quand on essaye de créer un index unique sur la colonne code_commune_INSEE :\n",
    "\n",
    "```bash\n",
    "    db.communes.createIndex( { code_commune_INSEE: 1 }, { unique: true } )\n",
    "```\n",
    "\n",
    "On reçois une erreur car deux éléments on le même code INSEE (le 1015)\n",
    "\n",
    "Mais on peut créer un index sur la colonne nom_commune de la manière suivante :\n",
    "\n",
    "```bash\n",
    "    db.communes.createIndex( { nom_commune : 1 } )\n",
    "```"
   ]
  },
  {
   "cell_type": "markdown",
   "metadata": {},
   "source": [
    "On relance alors le programme précédent et on l'exécute en seulement **10,55 secondes**"
   ]
  },
  {
   "cell_type": "markdown",
   "metadata": {},
   "source": [
    "## 12. Et si on se liait ?\n",
    "\n",
    "Nous allons récupérer en une suele fois la mailing liste et l'ensemble des utilisateurs. Ceci s'effectue avec \".populate\".\n",
    "\n",
    "Voici le code Node.js de l'utilisation de \".populate\"."
   ]
  },
  {
   "cell_type": "markdown",
   "metadata": {},
   "source": [
    "```js\n",
    "const mongoose = require('mongoose');\n",
    "const { Schema } = mongoose;\n",
    "mongoose.connect('mongodb://localhost:27017/Mailing');\n",
    "\n",
    "const UserSchema = new mongoose.Schema({\n",
    "    _id: Schema.Types.ObjectId,\n",
    "    name: String,\n",
    "    firstname: String,\n",
    "    email: String,\n",
    "});\n",
    "\n",
    "const ListSchema = new mongoose.Schema({\n",
    "    _id: Schema.Types.ObjectId,\n",
    "    name: String,\n",
    "    users: [{\n",
    "        type: Schema.Types.ObjectId,\n",
    "        ref: 'User'\n",
    "    }]\n",
    "});\n",
    "\n",
    "const List = mongoose.model(\"List\", ListSchema);\n",
    "const User = mongoose.model(\"User\", UserSchema);\n",
    "\n",
    "module.exports = {\n",
    "    List, User\n",
    "}\n",
    "\n",
    "List.find({\"name\" : \"Mailing-List 1\"})\n",
    "    .populate(\"users\")\n",
    "    .exec(function (err, res){\n",
    "        if (err) throw err;\n",
    "        console.log(res)\n",
    "    });\n",
    "  ```"
   ]
  },
  {
   "cell_type": "markdown",
   "metadata": {},
   "source": [
    "## 13. Montrez patte blanche\n",
    "\n",
    "L'authentification ne fonctionnait pas au début, mais elle a finit par marcher en changeant de port"
   ]
  },
  {
   "cell_type": "markdown",
   "metadata": {},
   "source": [
    "## 14. On se ferait bien un petit coup de Map Reduce"
   ]
  },
  {
   "cell_type": "markdown",
   "metadata": {},
   "source": [
    "Après l'exécution de fonction Map et Reduce suivantes :\n",
    "\n",
    "```\n",
    "> var mapFunction = function() { if (this.code_region == 84) emit(this.nom_commune, 1); }\n",
    "> var reduceFunction = function(nom, index) { return Array.sum(index); }\n",
    "> db.communes.mapReduce(mapFunction(),reduceFunction(), {out : \"map_reduce_example\"})\n",
    "```\n",
    "On obtient :\n",
    "```\n",
    "> db.map_reduce_example.find().pretty()\n",
    "{ \"_id\" : \"Charix\", \"value\" : 1 }\n",
    "{ \"_id\" : \"Pierrelongue\", \"value\" : 1 }\n",
    "{ \"_id\" : \"Ségny\", \"value\" : 1 }\n",
    "{ \"_id\" : \"Billy\", \"value\" : 1 }\n",
    "{ \"_id\" : \"Corbas\", \"value\" : 1 }\n",
    "{ \"_id\" : \"Nangy\", \"value\" : 1 }\n",
    "{ \"_id\" : \"Mézilhac\", \"value\" : 1 }\n",
    "{ \"_id\" : \"Chambon-sur-Lignon\", \"value\" : 1 }\n",
    "{ \"_id\" : \"Poëzat\", \"value\" : 1 }\n",
    "{ \"_id\" : \"Cézens\", \"value\" : 1 }\n",
    "{ \"_id\" : \"Bost\", \"value\" : 1 }\n",
    "{ \"_id\" : \"Sappey-en-Chartreuse\", \"value\" : 1 }\n",
    "{ \"_id\" : \"Valbonnais\", \"value\" : 1 }\n",
    "{ \"_id\" : \"Landry\", \"value\" : 1 }\n",
    "{ \"_id\" : \"Saint-Romain-au-Mont-d'Or\", \"value\" : 1 }\n",
    "{ \"_id\" : \"Saint-Projet-de-Salers\", \"value\" : 1 }\n",
    "{ \"_id\" : \"Barsac\", \"value\" : 1 }\n",
    "{ \"_id\" : \"Coucourde\", \"value\" : 2 }\n",
    "{ \"_id\" : \"Cayres\", \"value\" : 1 }\n",
    "{ \"_id\" : \"Saint-Marcellin-en-Forez\", \"value\" : 1 }\n",
    "```\n",
    "Ce qui est différent du résultat que l'on devrait avoir "
   ]
  },
  {
   "cell_type": "markdown",
   "metadata": {},
   "source": [
    "## 15. Sauvegarde et restauration des données"
   ]
  },
  {
   "cell_type": "markdown",
   "metadata": {},
   "source": [
    "Après l'exécution des différentes commandes, on s'aperçoit qu'un dossier est présent : *\"backup\"* où il y a toutes les bases de données sauvegardées depuis MongoDB"
   ]
  },
  {
   "cell_type": "markdown",
   "metadata": {},
   "source": [
    "## 16. Aggregation"
   ]
  },
  {
   "cell_type": "markdown",
   "metadata": {},
   "source": [
    "Il est possible de réaliser des aggregations.\n",
    "Ainsi nous pouvons faire des calculs en utilisant les syntaxes suivantes (liste non exhaustive):\n",
    "* $group\n",
    "* $sum\n",
    "* $min\n",
    "* $max\n",
    "* $avg\n",
    "\n",
    "A titre d'exemple : \n",
    "\n",
    "Si l'on veut calculer le nombre de codes postaux par état aux Etats Unis alors :\n",
    "```\n",
    "db.cities.aggregate({$group:{_id:\"$state\",nb_cities:{$sum:1}}},{$sort:{nb_cities:-1}})\n",
    "```\n",
    "nous retournera dans le Mongo Shell : \n",
    "```\n",
    "{ \"_id\" : \"TX\", \"nb_cities\" : 1671 }\n",
    "{ \"_id\" : \"NY\", \"nb_cities\" : 1595 }\n",
    "{ \"_id\" : \"CA\", \"nb_cities\" : 1516 }\n",
    "{ \"_id\" : \"PA\", \"nb_cities\" : 1458 }\n",
    "{ \"_id\" : \"IL\", \"nb_cities\" : 1237 }\n",
    "{ \"_id\" : \"OH\", \"nb_cities\" : 1007 }\n",
    "{ \"_id\" : \"MO\", \"nb_cities\" : 994 }\n",
    "{ \"_id\" : \"IA\", \"nb_cities\" : 922 }\n",
    "{ \"_id\" : \"MN\", \"nb_cities\" : 882 }\n",
    "{ \"_id\" : \"MI\", \"nb_cities\" : 876 }\n",
    "{ \"_id\" : \"VA\", \"nb_cities\" : 816 }\n",
    "{ \"_id\" : \"KY\", \"nb_cities\" : 809 }\n",
    "{ \"_id\" : \"FL\", \"nb_cities\" : 804 }\n",
    "{ \"_id\" : \"WI\", \"nb_cities\" : 716 }\n",
    "{ \"_id\" : \"KS\", \"nb_cities\" : 715 }\n",
    "{ \"_id\" : \"NC\", \"nb_cities\" : 705 }\n",
    "{ \"_id\" : \"IN\", \"nb_cities\" : 676 }\n",
    "{ \"_id\" : \"WV\", \"nb_cities\" : 656 }\n",
    "{ \"_id\" : \"GA\", \"nb_cities\" : 635 }\n",
    "{ \"_id\" : \"OK\", \"nb_cities\" : 586 }\n",
    "```\n",
    "\n"
   ]
  },
  {
   "cell_type": "markdown",
   "metadata": {},
   "source": [
    "## 17. Les triggers"
   ]
  },
  {
   "cell_type": "code",
   "execution_count": 37,
   "metadata": {},
   "outputs": [
    {
     "ename": "OperationFailure",
     "evalue": "The $changeStream stage is only supported on replica sets, full error: {'ok': 0.0, 'errmsg': 'The $changeStream stage is only supported on replica sets', 'code': 40573, 'codeName': 'Location40573'}",
     "output_type": "error",
     "traceback": [
      "\u001b[1;31m---------------------------------------------------------------------------\u001b[0m",
      "\u001b[1;31mOperationFailure\u001b[0m                          Traceback (most recent call last)",
      "\u001b[1;32mc:\\Users\\cleme\\OneDrive\\Documents\\POLYTECH\\S8\\INFO 834 - BDD DISTRIBUEES\\TP3\\tp3_4.ipynb Cell 22'\u001b[0m in \u001b[0;36m<module>\u001b[1;34m\u001b[0m\n\u001b[0;32m      <a href='vscode-notebook-cell:/c%3A/Users/cleme/OneDrive/Documents/POLYTECH/S8/INFO%20834%20-%20BDD%20DISTRIBUEES/TP3/tp3_4.ipynb#ch0000021?line=5'>6</a>\u001b[0m collection \u001b[39m=\u001b[39m db\u001b[39m.\u001b[39musers\n\u001b[0;32m      <a href='vscode-notebook-cell:/c%3A/Users/cleme/OneDrive/Documents/POLYTECH/S8/INFO%20834%20-%20BDD%20DISTRIBUEES/TP3/tp3_4.ipynb#ch0000021?line=7'>8</a>\u001b[0m \u001b[39m# Listener on every change\u001b[39;00m\n\u001b[1;32m----> <a href='vscode-notebook-cell:/c%3A/Users/cleme/OneDrive/Documents/POLYTECH/S8/INFO%20834%20-%20BDD%20DISTRIBUEES/TP3/tp3_4.ipynb#ch0000021?line=8'>9</a>\u001b[0m change_stream \u001b[39m=\u001b[39m collection\u001b[39m.\u001b[39;49mwatch()\n\u001b[0;32m     <a href='vscode-notebook-cell:/c%3A/Users/cleme/OneDrive/Documents/POLYTECH/S8/INFO%20834%20-%20BDD%20DISTRIBUEES/TP3/tp3_4.ipynb#ch0000021?line=10'>11</a>\u001b[0m \u001b[39m# For every change watch if it's an insert or a delete\u001b[39;00m\n\u001b[0;32m     <a href='vscode-notebook-cell:/c%3A/Users/cleme/OneDrive/Documents/POLYTECH/S8/INFO%20834%20-%20BDD%20DISTRIBUEES/TP3/tp3_4.ipynb#ch0000021?line=11'>12</a>\u001b[0m \u001b[39mfor\u001b[39;00m c \u001b[39min\u001b[39;00m change_stream:\n",
      "File \u001b[1;32m~\\AppData\\Local\\Packages\\PythonSoftwareFoundation.Python.3.9_qbz5n2kfra8p0\\LocalCache\\local-packages\\Python39\\site-packages\\pymongo\\collection.py:2114\u001b[0m, in \u001b[0;36mCollection.watch\u001b[1;34m(self, pipeline, full_document, resume_after, max_await_time_ms, batch_size, collation, start_at_operation_time, session, start_after)\u001b[0m\n\u001b[0;32m   <a href='file:///~/AppData/Local/Packages/PythonSoftwareFoundation.Python.3.9_qbz5n2kfra8p0/LocalCache/local-packages/Python39/site-packages/pymongo/collection.py?line=2014'>2015</a>\u001b[0m \u001b[39mdef\u001b[39;00m \u001b[39mwatch\u001b[39m(\u001b[39mself\u001b[39m, pipeline\u001b[39m=\u001b[39m\u001b[39mNone\u001b[39;00m, full_document\u001b[39m=\u001b[39m\u001b[39mNone\u001b[39;00m, resume_after\u001b[39m=\u001b[39m\u001b[39mNone\u001b[39;00m,\n\u001b[0;32m   <a href='file:///~/AppData/Local/Packages/PythonSoftwareFoundation.Python.3.9_qbz5n2kfra8p0/LocalCache/local-packages/Python39/site-packages/pymongo/collection.py?line=2015'>2016</a>\u001b[0m           max_await_time_ms\u001b[39m=\u001b[39m\u001b[39mNone\u001b[39;00m, batch_size\u001b[39m=\u001b[39m\u001b[39mNone\u001b[39;00m, collation\u001b[39m=\u001b[39m\u001b[39mNone\u001b[39;00m,\n\u001b[0;32m   <a href='file:///~/AppData/Local/Packages/PythonSoftwareFoundation.Python.3.9_qbz5n2kfra8p0/LocalCache/local-packages/Python39/site-packages/pymongo/collection.py?line=2016'>2017</a>\u001b[0m           start_at_operation_time\u001b[39m=\u001b[39m\u001b[39mNone\u001b[39;00m, session\u001b[39m=\u001b[39m\u001b[39mNone\u001b[39;00m, start_after\u001b[39m=\u001b[39m\u001b[39mNone\u001b[39;00m):\n\u001b[0;32m   <a href='file:///~/AppData/Local/Packages/PythonSoftwareFoundation.Python.3.9_qbz5n2kfra8p0/LocalCache/local-packages/Python39/site-packages/pymongo/collection.py?line=2017'>2018</a>\u001b[0m     \u001b[39m\"\"\"Watch changes on this collection.\u001b[39;00m\n\u001b[0;32m   <a href='file:///~/AppData/Local/Packages/PythonSoftwareFoundation.Python.3.9_qbz5n2kfra8p0/LocalCache/local-packages/Python39/site-packages/pymongo/collection.py?line=2018'>2019</a>\u001b[0m \n\u001b[0;32m   <a href='file:///~/AppData/Local/Packages/PythonSoftwareFoundation.Python.3.9_qbz5n2kfra8p0/LocalCache/local-packages/Python39/site-packages/pymongo/collection.py?line=2019'>2020</a>\u001b[0m \u001b[39m    Performs an aggregation with an implicit initial ``$changeStream``\u001b[39;00m\n\u001b[1;32m   (...)\u001b[0m\n\u001b[0;32m   <a href='file:///~/AppData/Local/Packages/PythonSoftwareFoundation.Python.3.9_qbz5n2kfra8p0/LocalCache/local-packages/Python39/site-packages/pymongo/collection.py?line=2111'>2112</a>\u001b[0m \u001b[39m        https://github.com/mongodb/specifications/blob/master/source/change-streams/change-streams.rst\u001b[39;00m\n\u001b[0;32m   <a href='file:///~/AppData/Local/Packages/PythonSoftwareFoundation.Python.3.9_qbz5n2kfra8p0/LocalCache/local-packages/Python39/site-packages/pymongo/collection.py?line=2112'>2113</a>\u001b[0m \u001b[39m    \"\"\"\u001b[39;00m\n\u001b[1;32m-> <a href='file:///~/AppData/Local/Packages/PythonSoftwareFoundation.Python.3.9_qbz5n2kfra8p0/LocalCache/local-packages/Python39/site-packages/pymongo/collection.py?line=2113'>2114</a>\u001b[0m     \u001b[39mreturn\u001b[39;00m CollectionChangeStream(\n\u001b[0;32m   <a href='file:///~/AppData/Local/Packages/PythonSoftwareFoundation.Python.3.9_qbz5n2kfra8p0/LocalCache/local-packages/Python39/site-packages/pymongo/collection.py?line=2114'>2115</a>\u001b[0m         \u001b[39mself\u001b[39;49m, pipeline, full_document, resume_after, max_await_time_ms,\n\u001b[0;32m   <a href='file:///~/AppData/Local/Packages/PythonSoftwareFoundation.Python.3.9_qbz5n2kfra8p0/LocalCache/local-packages/Python39/site-packages/pymongo/collection.py?line=2115'>2116</a>\u001b[0m         batch_size, collation, start_at_operation_time, session,\n\u001b[0;32m   <a href='file:///~/AppData/Local/Packages/PythonSoftwareFoundation.Python.3.9_qbz5n2kfra8p0/LocalCache/local-packages/Python39/site-packages/pymongo/collection.py?line=2116'>2117</a>\u001b[0m         start_after)\n",
      "File \u001b[1;32m~\\AppData\\Local\\Packages\\PythonSoftwareFoundation.Python.3.9_qbz5n2kfra8p0\\LocalCache\\local-packages\\Python39\\site-packages\\pymongo\\change_stream.py:105\u001b[0m, in \u001b[0;36mChangeStream.__init__\u001b[1;34m(self, target, pipeline, full_document, resume_after, max_await_time_ms, batch_size, collation, start_at_operation_time, session, start_after)\u001b[0m\n\u001b[0;32m    <a href='file:///~/AppData/Local/Packages/PythonSoftwareFoundation.Python.3.9_qbz5n2kfra8p0/LocalCache/local-packages/Python39/site-packages/pymongo/change_stream.py?line=101'>102</a>\u001b[0m \u001b[39mself\u001b[39m\u001b[39m.\u001b[39m_session \u001b[39m=\u001b[39m session\n\u001b[0;32m    <a href='file:///~/AppData/Local/Packages/PythonSoftwareFoundation.Python.3.9_qbz5n2kfra8p0/LocalCache/local-packages/Python39/site-packages/pymongo/change_stream.py?line=103'>104</a>\u001b[0m \u001b[39m# Initialize cursor.\u001b[39;00m\n\u001b[1;32m--> <a href='file:///~/AppData/Local/Packages/PythonSoftwareFoundation.Python.3.9_qbz5n2kfra8p0/LocalCache/local-packages/Python39/site-packages/pymongo/change_stream.py?line=104'>105</a>\u001b[0m \u001b[39mself\u001b[39m\u001b[39m.\u001b[39m_cursor \u001b[39m=\u001b[39m \u001b[39mself\u001b[39;49m\u001b[39m.\u001b[39;49m_create_cursor()\n",
      "File \u001b[1;32m~\\AppData\\Local\\Packages\\PythonSoftwareFoundation.Python.3.9_qbz5n2kfra8p0\\LocalCache\\local-packages\\Python39\\site-packages\\pymongo\\change_stream.py:188\u001b[0m, in \u001b[0;36mChangeStream._create_cursor\u001b[1;34m(self)\u001b[0m\n\u001b[0;32m    <a href='file:///~/AppData/Local/Packages/PythonSoftwareFoundation.Python.3.9_qbz5n2kfra8p0/LocalCache/local-packages/Python39/site-packages/pymongo/change_stream.py?line=185'>186</a>\u001b[0m \u001b[39mdef\u001b[39;00m \u001b[39m_create_cursor\u001b[39m(\u001b[39mself\u001b[39m):\n\u001b[0;32m    <a href='file:///~/AppData/Local/Packages/PythonSoftwareFoundation.Python.3.9_qbz5n2kfra8p0/LocalCache/local-packages/Python39/site-packages/pymongo/change_stream.py?line=186'>187</a>\u001b[0m     \u001b[39mwith\u001b[39;00m \u001b[39mself\u001b[39m\u001b[39m.\u001b[39m_client\u001b[39m.\u001b[39m_tmp_session(\u001b[39mself\u001b[39m\u001b[39m.\u001b[39m_session, close\u001b[39m=\u001b[39m\u001b[39mFalse\u001b[39;00m) \u001b[39mas\u001b[39;00m s:\n\u001b[1;32m--> <a href='file:///~/AppData/Local/Packages/PythonSoftwareFoundation.Python.3.9_qbz5n2kfra8p0/LocalCache/local-packages/Python39/site-packages/pymongo/change_stream.py?line=187'>188</a>\u001b[0m         \u001b[39mreturn\u001b[39;00m \u001b[39mself\u001b[39;49m\u001b[39m.\u001b[39;49m_run_aggregation_cmd(\n\u001b[0;32m    <a href='file:///~/AppData/Local/Packages/PythonSoftwareFoundation.Python.3.9_qbz5n2kfra8p0/LocalCache/local-packages/Python39/site-packages/pymongo/change_stream.py?line=188'>189</a>\u001b[0m             session\u001b[39m=\u001b[39;49ms,\n\u001b[0;32m    <a href='file:///~/AppData/Local/Packages/PythonSoftwareFoundation.Python.3.9_qbz5n2kfra8p0/LocalCache/local-packages/Python39/site-packages/pymongo/change_stream.py?line=189'>190</a>\u001b[0m             explicit_session\u001b[39m=\u001b[39;49m\u001b[39mself\u001b[39;49m\u001b[39m.\u001b[39;49m_session \u001b[39mis\u001b[39;49;00m \u001b[39mnot\u001b[39;49;00m \u001b[39mNone\u001b[39;49;00m)\n",
      "File \u001b[1;32m~\\AppData\\Local\\Packages\\PythonSoftwareFoundation.Python.3.9_qbz5n2kfra8p0\\LocalCache\\local-packages\\Python39\\site-packages\\pymongo\\change_stream.py:182\u001b[0m, in \u001b[0;36mChangeStream._run_aggregation_cmd\u001b[1;34m(self, session, explicit_session)\u001b[0m\n\u001b[0;32m    <a href='file:///~/AppData/Local/Packages/PythonSoftwareFoundation.Python.3.9_qbz5n2kfra8p0/LocalCache/local-packages/Python39/site-packages/pymongo/change_stream.py?line=173'>174</a>\u001b[0m \u001b[39m\"\"\"Run the full aggregation pipeline for this ChangeStream and return\u001b[39;00m\n\u001b[0;32m    <a href='file:///~/AppData/Local/Packages/PythonSoftwareFoundation.Python.3.9_qbz5n2kfra8p0/LocalCache/local-packages/Python39/site-packages/pymongo/change_stream.py?line=174'>175</a>\u001b[0m \u001b[39mthe corresponding CommandCursor.\u001b[39;00m\n\u001b[0;32m    <a href='file:///~/AppData/Local/Packages/PythonSoftwareFoundation.Python.3.9_qbz5n2kfra8p0/LocalCache/local-packages/Python39/site-packages/pymongo/change_stream.py?line=175'>176</a>\u001b[0m \u001b[39m\"\"\"\u001b[39;00m\n\u001b[0;32m    <a href='file:///~/AppData/Local/Packages/PythonSoftwareFoundation.Python.3.9_qbz5n2kfra8p0/LocalCache/local-packages/Python39/site-packages/pymongo/change_stream.py?line=176'>177</a>\u001b[0m cmd \u001b[39m=\u001b[39m \u001b[39mself\u001b[39m\u001b[39m.\u001b[39m_aggregation_command_class(\n\u001b[0;32m    <a href='file:///~/AppData/Local/Packages/PythonSoftwareFoundation.Python.3.9_qbz5n2kfra8p0/LocalCache/local-packages/Python39/site-packages/pymongo/change_stream.py?line=177'>178</a>\u001b[0m     \u001b[39mself\u001b[39m\u001b[39m.\u001b[39m_target, CommandCursor, \u001b[39mself\u001b[39m\u001b[39m.\u001b[39m_aggregation_pipeline(),\n\u001b[0;32m    <a href='file:///~/AppData/Local/Packages/PythonSoftwareFoundation.Python.3.9_qbz5n2kfra8p0/LocalCache/local-packages/Python39/site-packages/pymongo/change_stream.py?line=178'>179</a>\u001b[0m     \u001b[39mself\u001b[39m\u001b[39m.\u001b[39m_command_options(), explicit_session,\n\u001b[0;32m    <a href='file:///~/AppData/Local/Packages/PythonSoftwareFoundation.Python.3.9_qbz5n2kfra8p0/LocalCache/local-packages/Python39/site-packages/pymongo/change_stream.py?line=179'>180</a>\u001b[0m     result_processor\u001b[39m=\u001b[39m\u001b[39mself\u001b[39m\u001b[39m.\u001b[39m_process_result)\n\u001b[1;32m--> <a href='file:///~/AppData/Local/Packages/PythonSoftwareFoundation.Python.3.9_qbz5n2kfra8p0/LocalCache/local-packages/Python39/site-packages/pymongo/change_stream.py?line=181'>182</a>\u001b[0m \u001b[39mreturn\u001b[39;00m \u001b[39mself\u001b[39;49m\u001b[39m.\u001b[39;49m_client\u001b[39m.\u001b[39;49m_retryable_read(\n\u001b[0;32m    <a href='file:///~/AppData/Local/Packages/PythonSoftwareFoundation.Python.3.9_qbz5n2kfra8p0/LocalCache/local-packages/Python39/site-packages/pymongo/change_stream.py?line=182'>183</a>\u001b[0m     cmd\u001b[39m.\u001b[39;49mget_cursor, \u001b[39mself\u001b[39;49m\u001b[39m.\u001b[39;49m_target\u001b[39m.\u001b[39;49m_read_preference_for(session),\n\u001b[0;32m    <a href='file:///~/AppData/Local/Packages/PythonSoftwareFoundation.Python.3.9_qbz5n2kfra8p0/LocalCache/local-packages/Python39/site-packages/pymongo/change_stream.py?line=183'>184</a>\u001b[0m     session)\n",
      "File \u001b[1;32m~\\AppData\\Local\\Packages\\PythonSoftwareFoundation.Python.3.9_qbz5n2kfra8p0\\LocalCache\\local-packages\\Python39\\site-packages\\pymongo\\mongo_client.py:1313\u001b[0m, in \u001b[0;36mMongoClient._retryable_read\u001b[1;34m(self, func, read_pref, session, address, retryable)\u001b[0m\n\u001b[0;32m   <a href='file:///~/AppData/Local/Packages/PythonSoftwareFoundation.Python.3.9_qbz5n2kfra8p0/LocalCache/local-packages/Python39/site-packages/pymongo/mongo_client.py?line=1308'>1309</a>\u001b[0m         \u001b[39mif\u001b[39;00m retrying \u001b[39mand\u001b[39;00m \u001b[39mnot\u001b[39;00m retryable:\n\u001b[0;32m   <a href='file:///~/AppData/Local/Packages/PythonSoftwareFoundation.Python.3.9_qbz5n2kfra8p0/LocalCache/local-packages/Python39/site-packages/pymongo/mongo_client.py?line=1309'>1310</a>\u001b[0m             \u001b[39m# A retry is not possible because this server does\u001b[39;00m\n\u001b[0;32m   <a href='file:///~/AppData/Local/Packages/PythonSoftwareFoundation.Python.3.9_qbz5n2kfra8p0/LocalCache/local-packages/Python39/site-packages/pymongo/mongo_client.py?line=1310'>1311</a>\u001b[0m             \u001b[39m# not support retryable reads, raise the last error.\u001b[39;00m\n\u001b[0;32m   <a href='file:///~/AppData/Local/Packages/PythonSoftwareFoundation.Python.3.9_qbz5n2kfra8p0/LocalCache/local-packages/Python39/site-packages/pymongo/mongo_client.py?line=1311'>1312</a>\u001b[0m             \u001b[39mraise\u001b[39;00m last_error\n\u001b[1;32m-> <a href='file:///~/AppData/Local/Packages/PythonSoftwareFoundation.Python.3.9_qbz5n2kfra8p0/LocalCache/local-packages/Python39/site-packages/pymongo/mongo_client.py?line=1312'>1313</a>\u001b[0m         \u001b[39mreturn\u001b[39;00m func(session, server, sock_info, secondary_ok)\n\u001b[0;32m   <a href='file:///~/AppData/Local/Packages/PythonSoftwareFoundation.Python.3.9_qbz5n2kfra8p0/LocalCache/local-packages/Python39/site-packages/pymongo/mongo_client.py?line=1313'>1314</a>\u001b[0m \u001b[39mexcept\u001b[39;00m ServerSelectionTimeoutError:\n\u001b[0;32m   <a href='file:///~/AppData/Local/Packages/PythonSoftwareFoundation.Python.3.9_qbz5n2kfra8p0/LocalCache/local-packages/Python39/site-packages/pymongo/mongo_client.py?line=1314'>1315</a>\u001b[0m     \u001b[39mif\u001b[39;00m retrying:\n\u001b[0;32m   <a href='file:///~/AppData/Local/Packages/PythonSoftwareFoundation.Python.3.9_qbz5n2kfra8p0/LocalCache/local-packages/Python39/site-packages/pymongo/mongo_client.py?line=1315'>1316</a>\u001b[0m         \u001b[39m# The application may think the write was never attempted\u001b[39;00m\n\u001b[0;32m   <a href='file:///~/AppData/Local/Packages/PythonSoftwareFoundation.Python.3.9_qbz5n2kfra8p0/LocalCache/local-packages/Python39/site-packages/pymongo/mongo_client.py?line=1316'>1317</a>\u001b[0m         \u001b[39m# if we raise ServerSelectionTimeoutError on the retry\u001b[39;00m\n\u001b[0;32m   <a href='file:///~/AppData/Local/Packages/PythonSoftwareFoundation.Python.3.9_qbz5n2kfra8p0/LocalCache/local-packages/Python39/site-packages/pymongo/mongo_client.py?line=1317'>1318</a>\u001b[0m         \u001b[39m# attempt. Raise the original exception instead.\u001b[39;00m\n",
      "File \u001b[1;32m~\\AppData\\Local\\Packages\\PythonSoftwareFoundation.Python.3.9_qbz5n2kfra8p0\\LocalCache\\local-packages\\Python39\\site-packages\\pymongo\\aggregation.py:127\u001b[0m, in \u001b[0;36m_AggregationCommand.get_cursor\u001b[1;34m(self, session, server, sock_info, secondary_ok)\u001b[0m\n\u001b[0;32m    <a href='file:///~/AppData/Local/Packages/PythonSoftwareFoundation.Python.3.9_qbz5n2kfra8p0/LocalCache/local-packages/Python39/site-packages/pymongo/aggregation.py?line=123'>124</a>\u001b[0m     write_concern \u001b[39m=\u001b[39m \u001b[39mNone\u001b[39;00m\n\u001b[0;32m    <a href='file:///~/AppData/Local/Packages/PythonSoftwareFoundation.Python.3.9_qbz5n2kfra8p0/LocalCache/local-packages/Python39/site-packages/pymongo/aggregation.py?line=125'>126</a>\u001b[0m \u001b[39m# Run command.\u001b[39;00m\n\u001b[1;32m--> <a href='file:///~/AppData/Local/Packages/PythonSoftwareFoundation.Python.3.9_qbz5n2kfra8p0/LocalCache/local-packages/Python39/site-packages/pymongo/aggregation.py?line=126'>127</a>\u001b[0m result \u001b[39m=\u001b[39m sock_info\u001b[39m.\u001b[39;49mcommand(\n\u001b[0;32m    <a href='file:///~/AppData/Local/Packages/PythonSoftwareFoundation.Python.3.9_qbz5n2kfra8p0/LocalCache/local-packages/Python39/site-packages/pymongo/aggregation.py?line=127'>128</a>\u001b[0m     \u001b[39mself\u001b[39;49m\u001b[39m.\u001b[39;49m_database\u001b[39m.\u001b[39;49mname,\n\u001b[0;32m    <a href='file:///~/AppData/Local/Packages/PythonSoftwareFoundation.Python.3.9_qbz5n2kfra8p0/LocalCache/local-packages/Python39/site-packages/pymongo/aggregation.py?line=128'>129</a>\u001b[0m     cmd,\n\u001b[0;32m    <a href='file:///~/AppData/Local/Packages/PythonSoftwareFoundation.Python.3.9_qbz5n2kfra8p0/LocalCache/local-packages/Python39/site-packages/pymongo/aggregation.py?line=129'>130</a>\u001b[0m     secondary_ok,\n\u001b[0;32m    <a href='file:///~/AppData/Local/Packages/PythonSoftwareFoundation.Python.3.9_qbz5n2kfra8p0/LocalCache/local-packages/Python39/site-packages/pymongo/aggregation.py?line=130'>131</a>\u001b[0m     \u001b[39mself\u001b[39;49m\u001b[39m.\u001b[39;49mget_read_preference(session),\n\u001b[0;32m    <a href='file:///~/AppData/Local/Packages/PythonSoftwareFoundation.Python.3.9_qbz5n2kfra8p0/LocalCache/local-packages/Python39/site-packages/pymongo/aggregation.py?line=131'>132</a>\u001b[0m     \u001b[39mself\u001b[39;49m\u001b[39m.\u001b[39;49m_target\u001b[39m.\u001b[39;49mcodec_options,\n\u001b[0;32m    <a href='file:///~/AppData/Local/Packages/PythonSoftwareFoundation.Python.3.9_qbz5n2kfra8p0/LocalCache/local-packages/Python39/site-packages/pymongo/aggregation.py?line=132'>133</a>\u001b[0m     parse_write_concern_error\u001b[39m=\u001b[39;49m\u001b[39mTrue\u001b[39;49;00m,\n\u001b[0;32m    <a href='file:///~/AppData/Local/Packages/PythonSoftwareFoundation.Python.3.9_qbz5n2kfra8p0/LocalCache/local-packages/Python39/site-packages/pymongo/aggregation.py?line=133'>134</a>\u001b[0m     read_concern\u001b[39m=\u001b[39;49mread_concern,\n\u001b[0;32m    <a href='file:///~/AppData/Local/Packages/PythonSoftwareFoundation.Python.3.9_qbz5n2kfra8p0/LocalCache/local-packages/Python39/site-packages/pymongo/aggregation.py?line=134'>135</a>\u001b[0m     write_concern\u001b[39m=\u001b[39;49mwrite_concern,\n\u001b[0;32m    <a href='file:///~/AppData/Local/Packages/PythonSoftwareFoundation.Python.3.9_qbz5n2kfra8p0/LocalCache/local-packages/Python39/site-packages/pymongo/aggregation.py?line=135'>136</a>\u001b[0m     collation\u001b[39m=\u001b[39;49m\u001b[39mself\u001b[39;49m\u001b[39m.\u001b[39;49m_collation,\n\u001b[0;32m    <a href='file:///~/AppData/Local/Packages/PythonSoftwareFoundation.Python.3.9_qbz5n2kfra8p0/LocalCache/local-packages/Python39/site-packages/pymongo/aggregation.py?line=136'>137</a>\u001b[0m     session\u001b[39m=\u001b[39;49msession,\n\u001b[0;32m    <a href='file:///~/AppData/Local/Packages/PythonSoftwareFoundation.Python.3.9_qbz5n2kfra8p0/LocalCache/local-packages/Python39/site-packages/pymongo/aggregation.py?line=137'>138</a>\u001b[0m     client\u001b[39m=\u001b[39;49m\u001b[39mself\u001b[39;49m\u001b[39m.\u001b[39;49m_database\u001b[39m.\u001b[39;49mclient,\n\u001b[0;32m    <a href='file:///~/AppData/Local/Packages/PythonSoftwareFoundation.Python.3.9_qbz5n2kfra8p0/LocalCache/local-packages/Python39/site-packages/pymongo/aggregation.py?line=138'>139</a>\u001b[0m     user_fields\u001b[39m=\u001b[39;49m\u001b[39mself\u001b[39;49m\u001b[39m.\u001b[39;49m_user_fields)\n\u001b[0;32m    <a href='file:///~/AppData/Local/Packages/PythonSoftwareFoundation.Python.3.9_qbz5n2kfra8p0/LocalCache/local-packages/Python39/site-packages/pymongo/aggregation.py?line=140'>141</a>\u001b[0m \u001b[39mself\u001b[39m\u001b[39m.\u001b[39m_process_result(result, session, server, sock_info, secondary_ok)\n\u001b[0;32m    <a href='file:///~/AppData/Local/Packages/PythonSoftwareFoundation.Python.3.9_qbz5n2kfra8p0/LocalCache/local-packages/Python39/site-packages/pymongo/aggregation.py?line=142'>143</a>\u001b[0m \u001b[39m# Extract cursor from result or mock/fake one if necessary.\u001b[39;00m\n",
      "File \u001b[1;32m~\\AppData\\Local\\Packages\\PythonSoftwareFoundation.Python.3.9_qbz5n2kfra8p0\\LocalCache\\local-packages\\Python39\\site-packages\\pymongo\\pool.py:719\u001b[0m, in \u001b[0;36mSocketInfo.command\u001b[1;34m(self, dbname, spec, secondary_ok, read_preference, codec_options, check, allowable_errors, check_keys, read_concern, write_concern, parse_write_concern_error, collation, session, client, retryable_write, publish_events, user_fields, exhaust_allowed)\u001b[0m\n\u001b[0;32m    <a href='file:///~/AppData/Local/Packages/PythonSoftwareFoundation.Python.3.9_qbz5n2kfra8p0/LocalCache/local-packages/Python39/site-packages/pymongo/pool.py?line=716'>717</a>\u001b[0m     \u001b[39mself\u001b[39m\u001b[39m.\u001b[39m_raise_if_not_writable(unacknowledged)\n\u001b[0;32m    <a href='file:///~/AppData/Local/Packages/PythonSoftwareFoundation.Python.3.9_qbz5n2kfra8p0/LocalCache/local-packages/Python39/site-packages/pymongo/pool.py?line=717'>718</a>\u001b[0m \u001b[39mtry\u001b[39;00m:\n\u001b[1;32m--> <a href='file:///~/AppData/Local/Packages/PythonSoftwareFoundation.Python.3.9_qbz5n2kfra8p0/LocalCache/local-packages/Python39/site-packages/pymongo/pool.py?line=718'>719</a>\u001b[0m     \u001b[39mreturn\u001b[39;00m command(\u001b[39mself\u001b[39;49m, dbname, spec, secondary_ok,\n\u001b[0;32m    <a href='file:///~/AppData/Local/Packages/PythonSoftwareFoundation.Python.3.9_qbz5n2kfra8p0/LocalCache/local-packages/Python39/site-packages/pymongo/pool.py?line=719'>720</a>\u001b[0m                    \u001b[39mself\u001b[39;49m\u001b[39m.\u001b[39;49mis_mongos, read_preference, codec_options,\n\u001b[0;32m    <a href='file:///~/AppData/Local/Packages/PythonSoftwareFoundation.Python.3.9_qbz5n2kfra8p0/LocalCache/local-packages/Python39/site-packages/pymongo/pool.py?line=720'>721</a>\u001b[0m                    session, client, check, allowable_errors,\n\u001b[0;32m    <a href='file:///~/AppData/Local/Packages/PythonSoftwareFoundation.Python.3.9_qbz5n2kfra8p0/LocalCache/local-packages/Python39/site-packages/pymongo/pool.py?line=721'>722</a>\u001b[0m                    \u001b[39mself\u001b[39;49m\u001b[39m.\u001b[39;49maddress, check_keys, listeners,\n\u001b[0;32m    <a href='file:///~/AppData/Local/Packages/PythonSoftwareFoundation.Python.3.9_qbz5n2kfra8p0/LocalCache/local-packages/Python39/site-packages/pymongo/pool.py?line=722'>723</a>\u001b[0m                    \u001b[39mself\u001b[39;49m\u001b[39m.\u001b[39;49mmax_bson_size, read_concern,\n\u001b[0;32m    <a href='file:///~/AppData/Local/Packages/PythonSoftwareFoundation.Python.3.9_qbz5n2kfra8p0/LocalCache/local-packages/Python39/site-packages/pymongo/pool.py?line=723'>724</a>\u001b[0m                    parse_write_concern_error\u001b[39m=\u001b[39;49mparse_write_concern_error,\n\u001b[0;32m    <a href='file:///~/AppData/Local/Packages/PythonSoftwareFoundation.Python.3.9_qbz5n2kfra8p0/LocalCache/local-packages/Python39/site-packages/pymongo/pool.py?line=724'>725</a>\u001b[0m                    collation\u001b[39m=\u001b[39;49mcollation,\n\u001b[0;32m    <a href='file:///~/AppData/Local/Packages/PythonSoftwareFoundation.Python.3.9_qbz5n2kfra8p0/LocalCache/local-packages/Python39/site-packages/pymongo/pool.py?line=725'>726</a>\u001b[0m                    compression_ctx\u001b[39m=\u001b[39;49m\u001b[39mself\u001b[39;49m\u001b[39m.\u001b[39;49mcompression_context,\n\u001b[0;32m    <a href='file:///~/AppData/Local/Packages/PythonSoftwareFoundation.Python.3.9_qbz5n2kfra8p0/LocalCache/local-packages/Python39/site-packages/pymongo/pool.py?line=726'>727</a>\u001b[0m                    use_op_msg\u001b[39m=\u001b[39;49m\u001b[39mself\u001b[39;49m\u001b[39m.\u001b[39;49mop_msg_enabled,\n\u001b[0;32m    <a href='file:///~/AppData/Local/Packages/PythonSoftwareFoundation.Python.3.9_qbz5n2kfra8p0/LocalCache/local-packages/Python39/site-packages/pymongo/pool.py?line=727'>728</a>\u001b[0m                    unacknowledged\u001b[39m=\u001b[39;49munacknowledged,\n\u001b[0;32m    <a href='file:///~/AppData/Local/Packages/PythonSoftwareFoundation.Python.3.9_qbz5n2kfra8p0/LocalCache/local-packages/Python39/site-packages/pymongo/pool.py?line=728'>729</a>\u001b[0m                    user_fields\u001b[39m=\u001b[39;49muser_fields,\n\u001b[0;32m    <a href='file:///~/AppData/Local/Packages/PythonSoftwareFoundation.Python.3.9_qbz5n2kfra8p0/LocalCache/local-packages/Python39/site-packages/pymongo/pool.py?line=729'>730</a>\u001b[0m                    exhaust_allowed\u001b[39m=\u001b[39;49mexhaust_allowed)\n\u001b[0;32m    <a href='file:///~/AppData/Local/Packages/PythonSoftwareFoundation.Python.3.9_qbz5n2kfra8p0/LocalCache/local-packages/Python39/site-packages/pymongo/pool.py?line=730'>731</a>\u001b[0m \u001b[39mexcept\u001b[39;00m (OperationFailure, NotPrimaryError):\n\u001b[0;32m    <a href='file:///~/AppData/Local/Packages/PythonSoftwareFoundation.Python.3.9_qbz5n2kfra8p0/LocalCache/local-packages/Python39/site-packages/pymongo/pool.py?line=731'>732</a>\u001b[0m     \u001b[39mraise\u001b[39;00m\n",
      "File \u001b[1;32m~\\AppData\\Local\\Packages\\PythonSoftwareFoundation.Python.3.9_qbz5n2kfra8p0\\LocalCache\\local-packages\\Python39\\site-packages\\pymongo\\network.py:158\u001b[0m, in \u001b[0;36mcommand\u001b[1;34m(sock_info, dbname, spec, secondary_ok, is_mongos, read_preference, codec_options, session, client, check, allowable_errors, address, check_keys, listeners, max_bson_size, read_concern, parse_write_concern_error, collation, compression_ctx, use_op_msg, unacknowledged, user_fields, exhaust_allowed)\u001b[0m\n\u001b[0;32m    <a href='file:///~/AppData/Local/Packages/PythonSoftwareFoundation.Python.3.9_qbz5n2kfra8p0/LocalCache/local-packages/Python39/site-packages/pymongo/network.py?line=155'>156</a>\u001b[0m             client\u001b[39m.\u001b[39m_process_response(response_doc, session)\n\u001b[0;32m    <a href='file:///~/AppData/Local/Packages/PythonSoftwareFoundation.Python.3.9_qbz5n2kfra8p0/LocalCache/local-packages/Python39/site-packages/pymongo/network.py?line=156'>157</a>\u001b[0m         \u001b[39mif\u001b[39;00m check:\n\u001b[1;32m--> <a href='file:///~/AppData/Local/Packages/PythonSoftwareFoundation.Python.3.9_qbz5n2kfra8p0/LocalCache/local-packages/Python39/site-packages/pymongo/network.py?line=157'>158</a>\u001b[0m             helpers\u001b[39m.\u001b[39;49m_check_command_response(\n\u001b[0;32m    <a href='file:///~/AppData/Local/Packages/PythonSoftwareFoundation.Python.3.9_qbz5n2kfra8p0/LocalCache/local-packages/Python39/site-packages/pymongo/network.py?line=158'>159</a>\u001b[0m                 response_doc, sock_info\u001b[39m.\u001b[39;49mmax_wire_version, allowable_errors,\n\u001b[0;32m    <a href='file:///~/AppData/Local/Packages/PythonSoftwareFoundation.Python.3.9_qbz5n2kfra8p0/LocalCache/local-packages/Python39/site-packages/pymongo/network.py?line=159'>160</a>\u001b[0m                 parse_write_concern_error\u001b[39m=\u001b[39;49mparse_write_concern_error)\n\u001b[0;32m    <a href='file:///~/AppData/Local/Packages/PythonSoftwareFoundation.Python.3.9_qbz5n2kfra8p0/LocalCache/local-packages/Python39/site-packages/pymongo/network.py?line=160'>161</a>\u001b[0m \u001b[39mexcept\u001b[39;00m \u001b[39mException\u001b[39;00m \u001b[39mas\u001b[39;00m exc:\n\u001b[0;32m    <a href='file:///~/AppData/Local/Packages/PythonSoftwareFoundation.Python.3.9_qbz5n2kfra8p0/LocalCache/local-packages/Python39/site-packages/pymongo/network.py?line=161'>162</a>\u001b[0m     \u001b[39mif\u001b[39;00m publish:\n",
      "File \u001b[1;32m~\\AppData\\Local\\Packages\\PythonSoftwareFoundation.Python.3.9_qbz5n2kfra8p0\\LocalCache\\local-packages\\Python39\\site-packages\\pymongo\\helpers.py:170\u001b[0m, in \u001b[0;36m_check_command_response\u001b[1;34m(response, max_wire_version, allowable_errors, parse_write_concern_error)\u001b[0m\n\u001b[0;32m    <a href='file:///~/AppData/Local/Packages/PythonSoftwareFoundation.Python.3.9_qbz5n2kfra8p0/LocalCache/local-packages/Python39/site-packages/pymongo/helpers.py?line=166'>167</a>\u001b[0m \u001b[39melif\u001b[39;00m code \u001b[39m==\u001b[39m \u001b[39m43\u001b[39m:\n\u001b[0;32m    <a href='file:///~/AppData/Local/Packages/PythonSoftwareFoundation.Python.3.9_qbz5n2kfra8p0/LocalCache/local-packages/Python39/site-packages/pymongo/helpers.py?line=167'>168</a>\u001b[0m     \u001b[39mraise\u001b[39;00m CursorNotFound(errmsg, code, response, max_wire_version)\n\u001b[1;32m--> <a href='file:///~/AppData/Local/Packages/PythonSoftwareFoundation.Python.3.9_qbz5n2kfra8p0/LocalCache/local-packages/Python39/site-packages/pymongo/helpers.py?line=169'>170</a>\u001b[0m \u001b[39mraise\u001b[39;00m OperationFailure(errmsg, code, response, max_wire_version)\n",
      "\u001b[1;31mOperationFailure\u001b[0m: The $changeStream stage is only supported on replica sets, full error: {'ok': 0.0, 'errmsg': 'The $changeStream stage is only supported on replica sets', 'code': 40573, 'codeName': 'Location40573'}"
     ]
    }
   ],
   "source": [
    "import pymongo\n",
    "\n",
    "client = pymongo.MongoClient('localhost', 27017)\n",
    "db = client.Mailing\n",
    "collection = db.users\n",
    "\n",
    "\n",
    "change_stream = collection.watch()\n",
    "\n",
    "\n"
   ]
  }
 ],
 "metadata": {
  "interpreter": {
   "hash": "669f5abd92f1a410df15b0643b9f42360e277a412fc08ae8bc7d7911cf7e8f3d"
  },
  "kernelspec": {
   "display_name": "Python 3.10.2 64-bit",
   "language": "python",
   "name": "python3"
  },
  "language_info": {
   "codemirror_mode": {
    "name": "ipython",
    "version": 3
   },
   "file_extension": ".py",
   "mimetype": "text/x-python",
   "name": "python",
   "nbconvert_exporter": "python",
   "pygments_lexer": "ipython3",
   "version": "3.9.10"
  },
  "orig_nbformat": 4
 },
 "nbformat": 4,
 "nbformat_minor": 2
}
