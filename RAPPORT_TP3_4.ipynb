{
 "cells": [
  {
   "cell_type": "markdown",
   "metadata": {},
   "source": [
    "# INFO834 : TP 3-4\n",
    "\n",
    "### Forray Gabriel & Clément Massit"
   ]
  },
  {
   "cell_type": "markdown",
   "metadata": {},
   "source": [
    "Ce TP nous permettre de voir un ensemble de commandes dans le but de manipuler avec précision MongoDB. Nous verrons quelques script en python et en Node.js pour compléter ces manipulations."
   ]
  },
  {
   "cell_type": "markdown",
   "metadata": {},
   "source": [
    "Durant ce TP il s'agit de faire des requêtes afin de manipuler MongoDB. Après avoir testé l'importation des données via le mongoimport puis établit quelques commandes de bases, nous sommes capables de manipuler ces données.\n",
    "\n",
    "Il est temps de réaliser un peu de benchmark..."
   ]
  },
  {
   "cell_type": "markdown",
   "metadata": {},
   "source": [
    "## 7. Un peu de benchmark "
   ]
  },
  {
   "cell_type": "code",
   "execution_count": 38,
   "metadata": {},
   "outputs": [],
   "source": [
    "# Imports\n",
    "\n",
    "from pymongo import MongoClient\n",
    "import time\n",
    "import pandas as pd"
   ]
  },
  {
   "cell_type": "code",
   "execution_count": 39,
   "metadata": {},
   "outputs": [],
   "source": [
    "# Create the data frame\n",
    "\n",
    "df = pd.read_csv(\"communes-departement-region.csv\")"
   ]
  },
  {
   "cell_type": "code",
   "execution_count": 40,
   "metadata": {},
   "outputs": [],
   "source": [
    "# Connect to mongod\n",
    "\n",
    "client = MongoClient(\"localhost:27017\")\n",
    "db=client.France"
   ]
  },
  {
   "cell_type": "code",
   "execution_count": 42,
   "metadata": {},
   "outputs": [
    {
     "name": "stdout",
     "output_type": "stream",
     "text": [
      "2.2643213272094727\n"
     ]
    }
   ],
   "source": [
    "# Measure the time for finding each row by the commune name\n",
    "\n",
    "start = time.time()\n",
    "\n",
    "for index, row in df.iterrows():\n",
    "    db.communes.find({\"nom_commune\":row['nom_commune']})\n",
    "\n",
    "end = time.time()\n",
    "\n",
    "print(end - start)"
   ]
  },
  {
   "cell_type": "markdown",
   "metadata": {},
   "source": [
    "Pour rechercher chaque commune depuis la liste de leurs noms, on met **14,16 secondes**"
   ]
  },
  {
   "cell_type": "markdown",
   "metadata": {},
   "source": [
    "## 8. Quand ça presse et qu’il faut y aller vite\n",
    "Quand on essaye de créer un index unique sur la colonne code_commune_INSEE :\n",
    "\n",
    "```bash\n",
    "    db.communes.createIndex( { code_commune_INSEE: 1 }, { unique: true } )\n",
    "```\n",
    "\n",
    "On reçois une erreur car deux éléments on le même code INSEE (le 1015)\n",
    "\n",
    "Mais on peut créer un index sur la colonne nom_commune de la manière suivante :\n",
    "\n",
    "```bash\n",
    "    db.communes.createIndex( { nom_commune : 1 } )\n",
    "```"
   ]
  },
  {
   "cell_type": "markdown",
   "metadata": {},
   "source": [
    "On relance alors le programme précédent et on l'exécute en seulement **10,55 secondes**"
   ]
  },
  {
   "cell_type": "markdown",
   "metadata": {},
   "source": [
    "## 12. Et si on se liait ?\n",
    "\n",
    "Nous allons récupérer en une suele fois la mailing liste et l'ensemble des utilisateurs. Ceci s'effectue avec \".populate\".\n",
    "\n",
    "Voici le code Node.js de l'utilisation de \".populate\"."
   ]
  },
  {
   "cell_type": "markdown",
   "metadata": {},
   "source": [
    "```js\n",
    "const mongoose = require('mongoose');\n",
    "const { Schema } = mongoose;\n",
    "mongoose.connect('mongodb://localhost:27017/Mailing');\n",
    "\n",
    "const UserSchema = new mongoose.Schema({\n",
    "    _id: Schema.Types.ObjectId,\n",
    "    name: String,\n",
    "    firstname: String,\n",
    "    email: String,\n",
    "});\n",
    "\n",
    "const ListSchema = new mongoose.Schema({\n",
    "    _id: Schema.Types.ObjectId,\n",
    "    name: String,\n",
    "    users: [{\n",
    "        type: Schema.Types.ObjectId,\n",
    "        ref: 'User'\n",
    "    }]\n",
    "});\n",
    "\n",
    "const List = mongoose.model(\"List\", ListSchema);\n",
    "const User = mongoose.model(\"User\", UserSchema);\n",
    "\n",
    "module.exports = {\n",
    "    List, User\n",
    "}\n",
    "\n",
    "List.find({\"name\" : \"Mailing-List 1\"})\n",
    "    .populate(\"users\")\n",
    "    .exec(function (err, res){\n",
    "        if (err) throw err;\n",
    "        console.log(res)\n",
    "    });\n",
    "  ```"
   ]
  },
  {
   "cell_type": "markdown",
   "metadata": {},
   "source": [
    "## 13. Montrez patte blanche\n",
    "\n",
    "L'authentification ne fonctionnait pas au début, mais en changeant le serveur de port on a réussi à avoir ce qu'on voulait. Nous avons créer un utilisateur dans Robot 3T"
   ]
  },
  {
   "cell_type": "markdown",
   "metadata": {},
   "source": [
    "![picture 1](images/c2af7bd0a117b0313ec170d23f64ddec09fbf4cd06f366aac5caf20148242e70.png)  \n"
   ]
  },
  {
   "cell_type": "markdown",
   "metadata": {},
   "source": [
    "Ensuite, lorsque l'on essaie d'insérer une url, un message d'erreur est renvoyé avec un codeName : *Unauthorized*\n",
    "\n",
    "![picture 2](images/4574c055c93f5f0ac1818a7d993fe58363bf1dd1755601a5bda60569b5ab726d.png)  \n"
   ]
  },
  {
   "cell_type": "markdown",
   "metadata": {},
   "source": [
    "## 14. On se ferait bien un petit coup de Map Reduce"
   ]
  },
  {
   "cell_type": "markdown",
   "metadata": {},
   "source": [
    "Après l'exécution de fonction Map et Reduce suivantes :\n",
    "\n",
    "```\n",
    "> var mapFunction = function() { if (this.code_region == 84) emit(this.nom_commune, 1); }\n",
    "> var reduceFunction = function(nom, index) { return Array.sum(index); }\n",
    "> db.communes.mapReduce(mapFunction(),reduceFunction(), {out : \"map_reduce_example\"})\n",
    "```\n",
    "On obtient :\n",
    "```\n",
    "> db.map_reduce_example.find().pretty()\n",
    "{ \"_id\" : \"Charix\", \"value\" : 1 }\n",
    "{ \"_id\" : \"Pierrelongue\", \"value\" : 1 }\n",
    "{ \"_id\" : \"Ségny\", \"value\" : 1 }\n",
    "{ \"_id\" : \"Billy\", \"value\" : 1 }\n",
    "{ \"_id\" : \"Corbas\", \"value\" : 1 }\n",
    "{ \"_id\" : \"Nangy\", \"value\" : 1 }\n",
    "{ \"_id\" : \"Mézilhac\", \"value\" : 1 }\n",
    "{ \"_id\" : \"Chambon-sur-Lignon\", \"value\" : 1 }\n",
    "{ \"_id\" : \"Poëzat\", \"value\" : 1 }\n",
    "{ \"_id\" : \"Cézens\", \"value\" : 1 }\n",
    "{ \"_id\" : \"Bost\", \"value\" : 1 }\n",
    "{ \"_id\" : \"Sappey-en-Chartreuse\", \"value\" : 1 }\n",
    "{ \"_id\" : \"Valbonnais\", \"value\" : 1 }\n",
    "{ \"_id\" : \"Landry\", \"value\" : 1 }\n",
    "{ \"_id\" : \"Saint-Romain-au-Mont-d'Or\", \"value\" : 1 }\n",
    "{ \"_id\" : \"Saint-Projet-de-Salers\", \"value\" : 1 }\n",
    "{ \"_id\" : \"Barsac\", \"value\" : 1 }\n",
    "{ \"_id\" : \"Coucourde\", \"value\" : 2 }\n",
    "{ \"_id\" : \"Cayres\", \"value\" : 1 }\n",
    "{ \"_id\" : \"Saint-Marcellin-en-Forez\", \"value\" : 1 }\n",
    "```\n",
    "Ce qui est différent du résultat que l'on devrait avoir "
   ]
  },
  {
   "cell_type": "markdown",
   "metadata": {},
   "source": [
    "## 15. Sauvegarde et restauration des données"
   ]
  },
  {
   "cell_type": "markdown",
   "metadata": {},
   "source": [
    "Après l'exécution des différentes commandes, on s'aperçoit qu'un dossier est présent : *\"backup\"* où il y a toutes les bases de données sauvegardées depuis MongoDB"
   ]
  },
  {
   "cell_type": "markdown",
   "metadata": {},
   "source": [
    "## 16. Aggregation"
   ]
  },
  {
   "cell_type": "markdown",
   "metadata": {},
   "source": [
    "Il est possible de réaliser des aggregations.\n",
    "Ainsi nous pouvons faire des calculs en utilisant les syntaxes suivantes (liste non exhaustive):\n",
    "* $group\n",
    "* $sum\n",
    "* $min\n",
    "* $max\n",
    "* $avg\n",
    "\n",
    "A titre d'exemple : \n",
    "\n",
    "Si l'on veut calculer le nombre de codes postaux par état aux Etats Unis alors :\n",
    "```\n",
    "db.cities.aggregate({$group:{_id:\"$state\",nb_cities:{$sum:1}}},{$sort:{nb_cities:-1}})\n",
    "```\n",
    "nous retournera dans le Mongo Shell : \n",
    "```\n",
    "{ \"_id\" : \"TX\", \"nb_cities\" : 1671 }\n",
    "{ \"_id\" : \"NY\", \"nb_cities\" : 1595 }\n",
    "{ \"_id\" : \"CA\", \"nb_cities\" : 1516 }\n",
    "{ \"_id\" : \"PA\", \"nb_cities\" : 1458 }\n",
    "{ \"_id\" : \"IL\", \"nb_cities\" : 1237 }\n",
    "{ \"_id\" : \"OH\", \"nb_cities\" : 1007 }\n",
    "{ \"_id\" : \"MO\", \"nb_cities\" : 994 }\n",
    "{ \"_id\" : \"IA\", \"nb_cities\" : 922 }\n",
    "{ \"_id\" : \"MN\", \"nb_cities\" : 882 }\n",
    "{ \"_id\" : \"MI\", \"nb_cities\" : 876 }\n",
    "{ \"_id\" : \"VA\", \"nb_cities\" : 816 }\n",
    "{ \"_id\" : \"KY\", \"nb_cities\" : 809 }\n",
    "{ \"_id\" : \"FL\", \"nb_cities\" : 804 }\n",
    "{ \"_id\" : \"WI\", \"nb_cities\" : 716 }\n",
    "{ \"_id\" : \"KS\", \"nb_cities\" : 715 }\n",
    "{ \"_id\" : \"NC\", \"nb_cities\" : 705 }\n",
    "{ \"_id\" : \"IN\", \"nb_cities\" : 676 }\n",
    "{ \"_id\" : \"WV\", \"nb_cities\" : 656 }\n",
    "{ \"_id\" : \"GA\", \"nb_cities\" : 635 }\n",
    "{ \"_id\" : \"OK\", \"nb_cities\" : 586 }\n",
    "```\n",
    "\n"
   ]
  },
  {
   "cell_type": "markdown",
   "metadata": {},
   "source": [
    "## 17. Les triggers"
   ]
  },
  {
   "cell_type": "code",
   "execution_count": null,
   "metadata": {},
   "outputs": [],
   "source": [
    "import pymongo\n",
    "\n",
    "client = pymongo.MongoClient('localhost', 27017)\n",
    "db = client.Mailing\n",
    "collection = db.users\n",
    "\n",
    "\n",
    "change_stream = collection.watch()\n",
    "\n",
    "\n"
   ]
  }
 ],
 "metadata": {
  "interpreter": {
   "hash": "669f5abd92f1a410df15b0643b9f42360e277a412fc08ae8bc7d7911cf7e8f3d"
  },
  "kernelspec": {
   "display_name": "Python 3.10.2 64-bit",
   "language": "python",
   "name": "python3"
  },
  "language_info": {
   "codemirror_mode": {
    "name": "ipython",
    "version": 3
   },
   "file_extension": ".py",
   "mimetype": "text/x-python",
   "name": "python",
   "nbconvert_exporter": "python",
   "pygments_lexer": "ipython3",
   "version": "3.9.10"
  },
  "orig_nbformat": 4
 },
 "nbformat": 4,
 "nbformat_minor": 2
}
